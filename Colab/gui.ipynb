{
  "nbformat": 4,
  "nbformat_minor": 0,
  "metadata": {
    "colab": {
      "name": "gui.ipynb",
      "provenance": []
    },
    "kernelspec": {
      "name": "python3",
      "display_name": "Python 3"
    },
    "language_info": {
      "name": "python"
    }
  },
  "cells": [
    {
      "cell_type": "code",
      "execution_count": null,
      "metadata": {
        "colab": {
          "base_uri": "https://localhost:8080/"
        },
        "id": "wMrf0rG6aVss",
        "outputId": "e1210b3f-2686-4076-c602-e46020cc3957"
      },
      "outputs": [
        {
          "output_type": "stream",
          "name": "stdout",
          "text": [
            "Python 3.7.12\n"
          ]
        }
      ],
      "source": [
        "# I check python version\n",
        "!python --version"
      ]
    },
    {
      "cell_type": "code",
      "source": [
        "# I import necessary libraries\n",
        "import tkinter as tk\n",
        "from tkinter import filedialog\n",
        "from tkinter import *\n",
        "from PIL import ImageTk, Image\n",
        "import numpy as np"
      ],
      "metadata": {
        "id": "pSzBpd46bpFo"
      },
      "execution_count": null,
      "outputs": []
    },
    {
      "cell_type": "code",
      "source": [
        "# Load the model trained to classify the signal\n",
        "from keras.models import load_model\n",
        "model = load_model('traffic_classifier.h5')"
      ],
      "metadata": {
        "id": "GQI7fKKeXK2l"
      },
      "execution_count": null,
      "outputs": []
    },
    {
      "cell_type": "code",
      "source": [
        "# Dictionary for labeling all kinds of traffic signs\n",
        "classes = { 1:'Speed limit (20km/h)',\n",
        "            2:'Speed limit (30km/h)',      \n",
        "            3:'Speed limit (50km/h)',       \n",
        "            4:'Speed limit (60km/h)',      \n",
        "            5:'Speed limit (70km/h)',    \n",
        "            6:'Speed limit (80km/h)',      \n",
        "            7:'End of speed limit (80km/h)',     \n",
        "            8:'Speed limit (100km/h)',    \n",
        "            9:'Speed limit (120km/h)',     \n",
        "           10:'No passing',   \n",
        "           11:'No passing veh over 3.5 tons',     \n",
        "           12:'Right-of-way at intersection',     \n",
        "           13:'Priority road',    \n",
        "           14:'Yield',     \n",
        "           15:'Stop',       \n",
        "           16:'No vehicles',       \n",
        "           17:'Veh > 3.5 tons prohibited',       \n",
        "           18:'No entry',       \n",
        "           19:'General caution',     \n",
        "           20:'Dangerous curve left',      \n",
        "           21:'Dangerous curve right',   \n",
        "           22:'Double curve',      \n",
        "           23:'Bumpy road',     \n",
        "           24:'Slippery road',       \n",
        "           25:'Road narrows on the right',  \n",
        "           26:'Road work',    \n",
        "           27:'Traffic signals',      \n",
        "           28:'Pedestrians',     \n",
        "           29:'Children crossing',     \n",
        "           30:'Bicycles crossing',       \n",
        "           31:'Beware of ice/snow',\n",
        "           32:'Wild animals crossing',      \n",
        "           33:'End speed + passing limits',      \n",
        "           34:'Turn right ahead',     \n",
        "           35:'Turn left ahead',       \n",
        "           36:'Ahead only',      \n",
        "           37:'Go straight or right',      \n",
        "           38:'Go straight or left',      \n",
        "           39:'Keep right',     \n",
        "           40:'Keep left',      \n",
        "           41:'Roundabout mandatory',     \n",
        "           42:'End of no passing',      \n",
        "           43:'End no passing veh > 3.5 tons' }"
      ],
      "metadata": {
        "id": "l_9ePS2a-TIn"
      },
      "execution_count": null,
      "outputs": []
    },
    {
      "cell_type": "code",
      "source": [
        "!apt-get install -y xvfb # Install X Virtual Frame Buffer\n",
        "import os\n",
        "os.system('Xvfb :1 -screen 0 1600x1200x16  &')    # create virtual display with size 1600x1200 and 16 bit color. Color can be changed to 24 or 8\n",
        "os.environ['DISPLAY']=':1.0'    # tell X clients to use our virtual DISPLAY :1.0"
      ],
      "metadata": {
        "colab": {
          "base_uri": "https://localhost:8080/"
        },
        "id": "kEDe_GVUW6R3",
        "outputId": "3eee895c-36a6-41ec-a891-e736b921421b"
      },
      "execution_count": null,
      "outputs": [
        {
          "output_type": "stream",
          "name": "stdout",
          "text": [
            "Reading package lists... Done\n",
            "Building dependency tree       \n",
            "Reading state information... Done\n",
            "xvfb is already the newest version (2:1.19.6-1ubuntu4.10).\n",
            "0 upgraded, 0 newly installed, 0 to remove and 39 not upgraded.\n"
          ]
        }
      ]
    },
    {
      "cell_type": "code",
      "source": [
        "# GUI initialization\n",
        "top = tk.Tk()\n",
        "top.geometry('800x600')\n",
        "top.title('Traffic sign classification')\n",
        "top.configure(background = '#CDCDCD')\n",
        "\n",
        "label = Label(top,background = '#CDCDCD', font = ('arial',15,'bold'))\n",
        "sign_image = Label(top)\n",
        "\n",
        "def classify(file_path):\n",
        "    global label_packed\n",
        "    image = Image.open(file_path)\n",
        "    image = image.resize((30,30))\n",
        "    image = np.expand_dims(image, axis=0)\n",
        "    image = np.array(image)\n",
        "    print(image.shape)\n",
        "    pred = model.predict([image])[0]\n",
        "    newPred = pred+1\n",
        "    newPred = [int(i) for i in newPred]\n",
        "    maxValue = max(newPred)\n",
        "    sign = classes[newPred.index(maxValue)+1]\n",
        "    print(sign)\n",
        "    label.configure(foreground='#011638', text=sign) \n",
        "   \n",
        "\n",
        "def show_classify_button(file_path):\n",
        "    classify_b=Button(top,text=\"Classify Image\",command=lambda: classify(file_path),padx=10,pady=5)\n",
        "    classify_b.configure(background='#364156', foreground='white',font=('arial',10,'bold'))\n",
        "    classify_b.place(relx=0.79,rely=0.46)\n",
        "\n",
        "def upload_image():\n",
        "    try:\n",
        "        file_path=filedialog.askopenfilename()\n",
        "        uploaded=Image.open(file_path)\n",
        "        uploaded.thumbnail(((top.winfo_width()/2.25),(top.winfo_height()/2.25)))\n",
        "        im=ImageTk.PhotoImage(uploaded)\n",
        "        \n",
        "        sign_image.configure(image=im)\n",
        "        sign_image.image=im\n",
        "        label.configure(text='')\n",
        "        show_classify_button(file_path)\n",
        "    except:\n",
        "        pass\n",
        "\n",
        "upload=Button(top,text=\"Upload an image\",command=upload_image,padx=10,pady=5)\n",
        "upload.configure(background='#364156', foreground='white',font=('arial',10,'bold'))\n",
        "\n",
        "upload.pack(side=BOTTOM,pady=50)\n",
        "sign_image.pack(side=BOTTOM,expand=True)\n",
        "label.pack(side=BOTTOM,expand=True)\n",
        "heading = Label(top, text=\"Know Your Traffic Sign\",pady=20, font=('arial',20,'bold'))\n",
        "heading.configure(background='#CDCDCD',foreground='#364156')\n",
        "heading.pack()"
      ],
      "metadata": {
        "id": "2QniLo4vALRV"
      },
      "execution_count": null,
      "outputs": []
    },
    {
      "cell_type": "code",
      "source": [
        "# top.mainloop()"
      ],
      "metadata": {
        "id": "wxI5gkdoYjaw"
      },
      "execution_count": null,
      "outputs": []
    }
  ]
}