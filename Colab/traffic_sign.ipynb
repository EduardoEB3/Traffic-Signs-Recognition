{
  "nbformat": 4,
  "nbformat_minor": 0,
  "metadata": {
    "colab": {
      "name": "traffic_sign.ipynb",
      "provenance": [],
      "collapsed_sections": []
    },
    "kernelspec": {
      "name": "python3",
      "display_name": "Python 3"
    },
    "language_info": {
      "name": "python"
    },
    "accelerator": "GPU"
  },
  "cells": [
    {
      "cell_type": "code",
      "execution_count": 1,
      "metadata": {
        "colab": {
          "base_uri": "https://localhost:8080/"
        },
        "id": "RVDy2wV-eDsG",
        "outputId": "8c640447-0ddd-4d5b-ed65-9726700babd3"
      },
      "outputs": [
        {
          "output_type": "stream",
          "name": "stdout",
          "text": [
            "Python 3.7.13\n"
          ]
        }
      ],
      "source": [
        "# I check python version\n",
        "!python --version"
      ]
    },
    {
      "cell_type": "code",
      "source": [
        "# Import required libraries\n",
        "import numpy as np \n",
        "import pandas as pd \n",
        "import matplotlib.pyplot as plt\n",
        "import cv2\n",
        "import tensorflow as tf\n",
        "from PIL import Image\n",
        "import os\n",
        "from sklearn.model_selection import train_test_split\n",
        "from tensorflow.keras.utils import to_categorical\n",
        "from tensorflow.keras.models import Sequential, load_model\n",
        "from tensorflow.keras.layers import Conv2D, MaxPool2D, Dense, Flatten, Dropout"
      ],
      "metadata": {
        "id": "_KZBsH_xeO-e"
      },
      "execution_count": 1,
      "outputs": []
    },
    {
      "cell_type": "code",
      "source": [
        "# Definition of variables\n",
        "data = []\n",
        "labels = []\n",
        "classes = 43\n",
        "# cur_path = os.getcwd()\n",
        "cur_path = \"/content/drive/MyDrive/Cuarto/Segundo Cuatrimestre/TFG/Material/Dataset\""
      ],
      "metadata": {
        "id": "Ud5J7ARQf70S"
      },
      "execution_count": 2,
      "outputs": []
    },
    {
      "cell_type": "code",
      "source": [
        "# Retrieval of images and their labels\n",
        "for i in range(classes):\n",
        "    path = os.path.join(cur_path,'train',str(i))\n",
        "    print(path)\n",
        "    images = os.listdir(path)\n",
        "\n",
        "    for a in images:\n",
        "        try:\n",
        "            image = Image.open(path + '/'+ a)\n",
        "            image = image.resize((30,30))\n",
        "            image = np.array(image)\n",
        "            #sim = Image.fromarray(image)\n",
        "            data.append(image)\n",
        "            labels.append(i)\n",
        "        except:\n",
        "            print(\"Error loading image\")"
      ],
      "metadata": {
        "colab": {
          "base_uri": "https://localhost:8080/"
        },
        "id": "htRbIRDrgCu6",
        "outputId": "607eaea3-7089-4315-d945-056469a539af"
      },
      "execution_count": 3,
      "outputs": [
        {
          "output_type": "stream",
          "name": "stdout",
          "text": [
            "/content/drive/MyDrive/Cuarto/Segundo Cuatrimestre/TFG/Material/Dataset/train/0\n",
            "/content/drive/MyDrive/Cuarto/Segundo Cuatrimestre/TFG/Material/Dataset/train/1\n",
            "/content/drive/MyDrive/Cuarto/Segundo Cuatrimestre/TFG/Material/Dataset/train/2\n",
            "/content/drive/MyDrive/Cuarto/Segundo Cuatrimestre/TFG/Material/Dataset/train/3\n",
            "/content/drive/MyDrive/Cuarto/Segundo Cuatrimestre/TFG/Material/Dataset/train/4\n",
            "/content/drive/MyDrive/Cuarto/Segundo Cuatrimestre/TFG/Material/Dataset/train/5\n",
            "/content/drive/MyDrive/Cuarto/Segundo Cuatrimestre/TFG/Material/Dataset/train/6\n",
            "/content/drive/MyDrive/Cuarto/Segundo Cuatrimestre/TFG/Material/Dataset/train/7\n",
            "/content/drive/MyDrive/Cuarto/Segundo Cuatrimestre/TFG/Material/Dataset/train/8\n",
            "/content/drive/MyDrive/Cuarto/Segundo Cuatrimestre/TFG/Material/Dataset/train/9\n",
            "/content/drive/MyDrive/Cuarto/Segundo Cuatrimestre/TFG/Material/Dataset/train/10\n",
            "/content/drive/MyDrive/Cuarto/Segundo Cuatrimestre/TFG/Material/Dataset/train/11\n",
            "/content/drive/MyDrive/Cuarto/Segundo Cuatrimestre/TFG/Material/Dataset/train/12\n",
            "/content/drive/MyDrive/Cuarto/Segundo Cuatrimestre/TFG/Material/Dataset/train/13\n",
            "/content/drive/MyDrive/Cuarto/Segundo Cuatrimestre/TFG/Material/Dataset/train/14\n",
            "/content/drive/MyDrive/Cuarto/Segundo Cuatrimestre/TFG/Material/Dataset/train/15\n",
            "/content/drive/MyDrive/Cuarto/Segundo Cuatrimestre/TFG/Material/Dataset/train/16\n",
            "/content/drive/MyDrive/Cuarto/Segundo Cuatrimestre/TFG/Material/Dataset/train/17\n",
            "/content/drive/MyDrive/Cuarto/Segundo Cuatrimestre/TFG/Material/Dataset/train/18\n",
            "/content/drive/MyDrive/Cuarto/Segundo Cuatrimestre/TFG/Material/Dataset/train/19\n",
            "/content/drive/MyDrive/Cuarto/Segundo Cuatrimestre/TFG/Material/Dataset/train/20\n",
            "/content/drive/MyDrive/Cuarto/Segundo Cuatrimestre/TFG/Material/Dataset/train/21\n",
            "/content/drive/MyDrive/Cuarto/Segundo Cuatrimestre/TFG/Material/Dataset/train/22\n",
            "/content/drive/MyDrive/Cuarto/Segundo Cuatrimestre/TFG/Material/Dataset/train/23\n",
            "/content/drive/MyDrive/Cuarto/Segundo Cuatrimestre/TFG/Material/Dataset/train/24\n",
            "/content/drive/MyDrive/Cuarto/Segundo Cuatrimestre/TFG/Material/Dataset/train/25\n",
            "/content/drive/MyDrive/Cuarto/Segundo Cuatrimestre/TFG/Material/Dataset/train/26\n",
            "/content/drive/MyDrive/Cuarto/Segundo Cuatrimestre/TFG/Material/Dataset/train/27\n",
            "/content/drive/MyDrive/Cuarto/Segundo Cuatrimestre/TFG/Material/Dataset/train/28\n",
            "/content/drive/MyDrive/Cuarto/Segundo Cuatrimestre/TFG/Material/Dataset/train/29\n",
            "/content/drive/MyDrive/Cuarto/Segundo Cuatrimestre/TFG/Material/Dataset/train/30\n",
            "/content/drive/MyDrive/Cuarto/Segundo Cuatrimestre/TFG/Material/Dataset/train/31\n",
            "/content/drive/MyDrive/Cuarto/Segundo Cuatrimestre/TFG/Material/Dataset/train/32\n",
            "/content/drive/MyDrive/Cuarto/Segundo Cuatrimestre/TFG/Material/Dataset/train/33\n",
            "/content/drive/MyDrive/Cuarto/Segundo Cuatrimestre/TFG/Material/Dataset/train/34\n",
            "/content/drive/MyDrive/Cuarto/Segundo Cuatrimestre/TFG/Material/Dataset/train/35\n",
            "/content/drive/MyDrive/Cuarto/Segundo Cuatrimestre/TFG/Material/Dataset/train/36\n",
            "/content/drive/MyDrive/Cuarto/Segundo Cuatrimestre/TFG/Material/Dataset/train/37\n",
            "/content/drive/MyDrive/Cuarto/Segundo Cuatrimestre/TFG/Material/Dataset/train/38\n",
            "/content/drive/MyDrive/Cuarto/Segundo Cuatrimestre/TFG/Material/Dataset/train/39\n",
            "/content/drive/MyDrive/Cuarto/Segundo Cuatrimestre/TFG/Material/Dataset/train/40\n",
            "/content/drive/MyDrive/Cuarto/Segundo Cuatrimestre/TFG/Material/Dataset/train/41\n",
            "/content/drive/MyDrive/Cuarto/Segundo Cuatrimestre/TFG/Material/Dataset/train/42\n"
          ]
        }
      ]
    },
    {
      "cell_type": "code",
      "source": [
        "# Converting lists into numpy arrays\n",
        "data = np.array(data)\n",
        "labels = np.array(labels)\n",
        "\n",
        "print(data.shape, labels.shape)\n",
        "\n",
        "# Splitting training and testing dataset\n",
        "X_train, X_test, y_train, y_test = train_test_split(\n",
        "    data, labels, test_size=0.2, random_state=42\n",
        ")\n",
        "\n",
        "print(X_train.shape, X_test.shape, y_train.shape, y_test.shape)\n",
        "\n",
        "# Converting the labels into one hot encoding\n",
        "y_train = to_categorical(y_train, 43)\n",
        "y_test = to_categorical(y_test, 43)"
      ],
      "metadata": {
        "colab": {
          "base_uri": "https://localhost:8080/"
        },
        "id": "LaF1pZK0Oocr",
        "outputId": "0a158bd8-9b4d-47a1-bf3a-9a26fdc3c2fa"
      },
      "execution_count": 4,
      "outputs": [
        {
          "output_type": "stream",
          "name": "stdout",
          "text": [
            "(39209, 30, 30, 3) (39209,)\n",
            "(31367, 30, 30, 3) (7842, 30, 30, 3) (31367,) (7842,)\n"
          ]
        }
      ]
    },
    {
      "cell_type": "code",
      "source": [
        "# Building the model\n",
        "model = Sequential()\n",
        "model.add(\n",
        "    Conv2D(\n",
        "        filters=32, kernel_size=(5, 5), activation=\"relu\", input_shape=X_train.shape[1:]\n",
        "    )\n",
        ")\n",
        "model.add(Conv2D(filters=32, kernel_size=(5, 5), activation=\"relu\"))\n",
        "model.add(MaxPool2D(pool_size=(2, 2)))\n",
        "model.add(Dropout(rate=0.25))\n",
        "model.add(Conv2D(filters=64, kernel_size=(3, 3), activation=\"relu\"))\n",
        "model.add(Conv2D(filters=64, kernel_size=(3, 3), activation=\"relu\"))\n",
        "model.add(MaxPool2D(pool_size=(2, 2)))\n",
        "model.add(Dropout(rate=0.25))\n",
        "model.add(Flatten())\n",
        "model.add(Dense(256, activation=\"relu\"))\n",
        "model.add(Dropout(rate=0.5))\n",
        "model.add(Dense(43, activation=\"softmax\"))"
      ],
      "metadata": {
        "id": "RZzVbMVmO9Kb"
      },
      "execution_count": 5,
      "outputs": []
    },
    {
      "cell_type": "code",
      "source": [
        "# Compilation of the model\n",
        "model.compile(loss=\"categorical_crossentropy\", optimizer=\"adam\", metrics=[\"accuracy\"])\n",
        "\n",
        "epochs = 15\n",
        "history = model.fit(\n",
        "    X_train, y_train, batch_size=32, epochs=epochs, validation_data=(X_test, y_test)\n",
        ")\n",
        "model.save(\"my_model.h5\")"
      ],
      "metadata": {
        "colab": {
          "base_uri": "https://localhost:8080/"
        },
        "id": "WL6SxJTtPCml",
        "outputId": "e05f41f8-39de-429d-d73d-537415a995a7"
      },
      "execution_count": 6,
      "outputs": [
        {
          "output_type": "stream",
          "name": "stdout",
          "text": [
            "Epoch 1/15\n",
            "981/981 [==============================] - 20s 11ms/step - loss: 1.6598 - accuracy: 0.5709 - val_loss: 0.3546 - val_accuracy: 0.9217\n",
            "Epoch 2/15\n",
            "981/981 [==============================] - 10s 10ms/step - loss: 0.4847 - accuracy: 0.8614 - val_loss: 0.1007 - val_accuracy: 0.9754\n",
            "Epoch 3/15\n",
            "981/981 [==============================] - 10s 10ms/step - loss: 0.3056 - accuracy: 0.9167 - val_loss: 0.0911 - val_accuracy: 0.9782\n",
            "Epoch 4/15\n",
            "981/981 [==============================] - 10s 10ms/step - loss: 0.2584 - accuracy: 0.9293 - val_loss: 0.0824 - val_accuracy: 0.9783\n",
            "Epoch 5/15\n",
            "981/981 [==============================] - 10s 10ms/step - loss: 0.2273 - accuracy: 0.9388 - val_loss: 0.0601 - val_accuracy: 0.9843\n",
            "Epoch 6/15\n",
            "981/981 [==============================] - 10s 10ms/step - loss: 0.2289 - accuracy: 0.9388 - val_loss: 0.0574 - val_accuracy: 0.9842\n",
            "Epoch 7/15\n",
            "981/981 [==============================] - 10s 10ms/step - loss: 0.2147 - accuracy: 0.9443 - val_loss: 0.0579 - val_accuracy: 0.9841\n",
            "Epoch 8/15\n",
            "981/981 [==============================] - 10s 10ms/step - loss: 0.2064 - accuracy: 0.9462 - val_loss: 0.0568 - val_accuracy: 0.9847\n",
            "Epoch 9/15\n",
            "981/981 [==============================] - 10s 10ms/step - loss: 0.2200 - accuracy: 0.9455 - val_loss: 0.0511 - val_accuracy: 0.9878\n",
            "Epoch 10/15\n",
            "981/981 [==============================] - 10s 10ms/step - loss: 0.2248 - accuracy: 0.9462 - val_loss: 0.0537 - val_accuracy: 0.9861\n",
            "Epoch 11/15\n",
            "981/981 [==============================] - 10s 10ms/step - loss: 0.1848 - accuracy: 0.9534 - val_loss: 0.0413 - val_accuracy: 0.9890\n",
            "Epoch 12/15\n",
            "981/981 [==============================] - 10s 10ms/step - loss: 0.2101 - accuracy: 0.9496 - val_loss: 0.0932 - val_accuracy: 0.9740\n",
            "Epoch 13/15\n",
            "981/981 [==============================] - 10s 10ms/step - loss: 0.2010 - accuracy: 0.9535 - val_loss: 0.0523 - val_accuracy: 0.9890\n",
            "Epoch 14/15\n",
            "981/981 [==============================] - 10s 10ms/step - loss: 0.2458 - accuracy: 0.9449 - val_loss: 0.0729 - val_accuracy: 0.9821\n",
            "Epoch 15/15\n",
            "981/981 [==============================] - 9s 10ms/step - loss: 0.2214 - accuracy: 0.9478 - val_loss: 0.0572 - val_accuracy: 0.9867\n"
          ]
        }
      ]
    },
    {
      "cell_type": "code",
      "source": [
        "# Plotting graphs for accuracy\n",
        "plt.figure(0)\n",
        "plt.plot(history.history[\"accuracy\"], label=\"training accuracy\")\n",
        "plt.plot(history.history[\"val_accuracy\"], label=\"val accuracy\")\n",
        "plt.title(\"Accuracy\")\n",
        "plt.xlabel(\"epochs\")\n",
        "plt.ylabel(\"accuracy\")\n",
        "plt.legend()\n",
        "plt.show()"
      ],
      "metadata": {
        "colab": {
          "base_uri": "https://localhost:8080/",
          "height": 295
        },
        "id": "Ua0WxudQTG8u",
        "outputId": "c0a752e0-3f9b-4b0a-9add-852b332c0b33"
      },
      "execution_count": 7,
      "outputs": [
        {
          "output_type": "display_data",
          "data": {
            "text/plain": [
              "<Figure size 432x288 with 1 Axes>"
            ],
            "image/png": "[encoded data removed]"
          },
          "metadata": {
            "needs_background": "light"
          }
        }
      ]
    },
    {
      "cell_type": "code",
      "source": [
        "plt.figure(1)\n",
        "plt.plot(history.history[\"loss\"], label=\"training loss\")\n",
        "plt.plot(history.history[\"val_loss\"], label=\"val loss\")\n",
        "plt.title(\"Loss\")\n",
        "plt.xlabel(\"epochs\")\n",
        "plt.ylabel(\"loss\")\n",
        "plt.legend()\n",
        "plt.show()"
      ],
      "metadata": {
        "colab": {
          "base_uri": "https://localhost:8080/",
          "height": 295
        },
        "id": "mEZgFZ6NWqrw",
        "outputId": "7e62d801-44bd-4958-e968-cd994a575014"
      },
      "execution_count": 8,
      "outputs": [
        {
          "output_type": "display_data",
          "data": {
            "text/plain": [
              "<Figure size 432x288 with 1 Axes>"
            ],
            "image/png": "[encoded data removed]"
          },
          "metadata": {
            "needs_background": "light"
          }
        }
      ]
    },
    {
      "cell_type": "code",
      "source": [
        "# Testing accuracy on test dataset\n",
        "from sklearn.metrics import accuracy_score\n",
        "\n",
        "y_test = pd.read_csv(\"/content/drive/MyDrive/Cuarto/Segundo Cuatrimestre/TFG/Material/Dataset/Test.csv\")\n",
        "\n",
        "labels = y_test[\"ClassId\"].values\n",
        "imgs = y_test[\"Path\"].values\n",
        "\n",
        "data = []\n",
        "\n",
        "for img in imgs:\n",
        "    image = Image.open(\"/content/drive/MyDrive/Cuarto/Segundo Cuatrimestre/TFG/Material/Dataset/\" + img)\n",
        "    image = image.resize((30, 30))\n",
        "    data.append(np.array(image))"
      ],
      "metadata": {
        "id": "bEl12QOATQPc"
      },
      "execution_count": null,
      "outputs": []
    },
    {
      "cell_type": "code",
      "source": [
        "X_test = np.array(data)\n",
        "\n",
        "pred = model.predict(X_test)\n",
        "\n",
        "# Accuracy and stats with the test data\n",
        "from sklearn.metrics import accuracy_score, classification_report\n",
        "\n",
        "print(\"Accuracy: \", accuracy_score(labels, np.argmax(pred, axis = 1)))"
      ],
      "metadata": {
        "colab": {
          "base_uri": "https://localhost:8080/"
        },
        "id": "9tsGUiLLm2nL",
        "outputId": "4414ef2a-7527-4728-8e96-7556f5e5cb1a"
      },
      "execution_count": 11,
      "outputs": [
        {
          "output_type": "stream",
          "name": "stdout",
          "text": [
            "Accuracy:  0.9529691211401425\n"
          ]
        }
      ]
    },
    {
      "cell_type": "code",
      "source": [
        "print(classification_report(labels, np.argmax(pred, axis = 1)))"
      ],
      "metadata": {
        "colab": {
          "base_uri": "https://localhost:8080/"
        },
        "id": "CNw90WadsAwA",
        "outputId": "8e85dab7-7855-4228-b052-c0d5b4eb40fb"
      },
      "execution_count": 12,
      "outputs": [
        {
          "output_type": "stream",
          "name": "stdout",
          "text": [
            "              precision    recall  f1-score   support\n",
            "\n",
            "           0       1.00      0.98      0.99        60\n",
            "           1       0.95      0.96      0.96       720\n",
            "           2       0.96      0.98      0.97       750\n",
            "           3       0.98      0.96      0.97       450\n",
            "           4       0.99      0.97      0.98       660\n",
            "           5       0.90      0.96      0.93       630\n",
            "           6       0.95      0.71      0.81       150\n",
            "           7       0.95      0.98      0.96       450\n",
            "           8       0.94      0.98      0.96       450\n",
            "           9       0.97      0.99      0.98       480\n",
            "          10       0.98      0.99      0.99       660\n",
            "          11       0.91      0.97      0.94       420\n",
            "          12       0.99      0.95      0.97       690\n",
            "          13       0.99      0.99      0.99       720\n",
            "          14       0.99      0.99      0.99       270\n",
            "          15       0.87      0.99      0.93       210\n",
            "          16       0.97      1.00      0.99       150\n",
            "          17       0.98      1.00      0.99       360\n",
            "          18       0.99      0.80      0.88       390\n",
            "          19       0.74      0.98      0.84        60\n",
            "          20       0.87      0.98      0.92        90\n",
            "          21       0.88      0.62      0.73        90\n",
            "          22       0.98      0.87      0.92       120\n",
            "          23       0.97      0.99      0.98       150\n",
            "          24       0.82      0.93      0.87        90\n",
            "          25       0.99      0.92      0.95       480\n",
            "          26       0.85      0.94      0.89       180\n",
            "          27       0.50      0.43      0.46        60\n",
            "          28       0.96      0.99      0.98       150\n",
            "          29       0.92      0.89      0.90        90\n",
            "          30       0.83      0.73      0.78       150\n",
            "          31       0.84      0.99      0.91       270\n",
            "          32       0.96      0.73      0.83        60\n",
            "          33       0.97      0.99      0.98       210\n",
            "          34       0.96      0.98      0.97       120\n",
            "          35       0.99      0.98      0.99       390\n",
            "          36       0.99      0.96      0.97       120\n",
            "          37       0.98      0.98      0.98        60\n",
            "          38       0.99      0.98      0.99       690\n",
            "          39       0.98      0.91      0.94        90\n",
            "          40       0.96      0.80      0.87        90\n",
            "          41       1.00      0.80      0.89        60\n",
            "          42       0.82      0.94      0.88        90\n",
            "\n",
            "    accuracy                           0.95     12630\n",
            "   macro avg       0.93      0.92      0.92     12630\n",
            "weighted avg       0.95      0.95      0.95     12630\n",
            "\n"
          ]
        }
      ]
    }
  ]
}